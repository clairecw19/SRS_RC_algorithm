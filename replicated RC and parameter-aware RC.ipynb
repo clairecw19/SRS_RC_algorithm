{
 "cells": [
  {
   "cell_type": "code",
   "execution_count": 1,
   "metadata": {},
   "outputs": [],
   "source": [
    "import numpy as np\n",
    "import scipy\n",
    "from scipy import integrate\n",
    "from sklearn.linear_model import Ridge\n",
    "import matplotlib.pyplot as plt\n",
    "import time\n",
    "import seaborn as sns\n"
   ]
  },
  {
   "cell_type": "code",
   "execution_count": 2,
   "metadata": {},
   "outputs": [],
   "source": [
    "def adjacency_matrix(N : int, spectral_radius : float = 0.9, density : float = 0.02):\n",
    "    rng = np.random.default_rng(0) # Initialize the numpy random number generator\n",
    "    current_time = time.time_ns()\n",
    "    M = np.zeros((N,N))\n",
    "    for i in range(N):\n",
    "        for j in range(N):\n",
    "            M[i,j] = rng.uniform(0, 1.0) if rng.uniform(0.0, 1.0) < density else 0.0\n",
    "    elapsed_time = time.time_ns() - current_time \n",
    "    print(\"> First construction [time in s]: \", elapsed_time/1.e9)\n",
    "    \n",
    "    current_time = time.time_ns()\n",
    "    current_spectral_radius = np.abs(np.linalg.eigvals(M)).max()\n",
    "    elapsed_time = time.time_ns() - current_time \n",
    "    print(\"> Spectral radius computation [time in s]: \", elapsed_time/1.e9)\n",
    "\n",
    "    M *= spectral_radius / current_spectral_radius\n",
    "    return M"
   ]
  },
  {
   "cell_type": "code",
   "execution_count": 3,
   "metadata": {},
   "outputs": [],
   "source": [
    "def input_weights_lu2018(N : int, m : int):\n",
    "    rng = np.random.default_rng(1)\n",
    "    W_in = np.zeros((N, m))\n",
    "    for i in range(N):\n",
    "        W_in[i,rng.choice(m)] = rng.uniform(-1.0, 1.0)\n",
    "    return W_in\n",
    "\n",
    "def input_weights_zhang2021(N : int, m : int):\n",
    "    rng = np.random.default_rng(1)\n",
    "    W_in = np.zeros((N, m))\n",
    "    for i in range(N):\n",
    "        for j in range(m):\n",
    "            W_in[i,j] = rng.uniform(-1.0, 1.0)\n",
    "    return W_in"
   ]
  },
  {
   "cell_type": "code",
   "execution_count": 4,
   "metadata": {},
   "outputs": [],
   "source": [
    "def bias_vector(N : int):\n",
    "    rng = np.random.default_rng(2) # Initialize the numpy random number generator\n",
    "    bias = np.zeros(N)\n",
    "    for i in range(N):\n",
    "        bias[i] = rng.uniform(-1.0, 1.0)\n",
    "    return bias"
   ]
  },
  {
   "cell_type": "code",
   "execution_count": 5,
   "metadata": {},
   "outputs": [],
   "source": [
    "class ParameterAwareDiscreteReservoir:\n",
    "\n",
    "    def __init__(self, N : int, m: int, gamma: float, sigma : float, spectral_radius : float = 0.9, density : float = 0.02):\n",
    "\n",
    "        # Reservoir dimension\n",
    "        self.size = N\n",
    "        # Dynamical system dimension\n",
    "        self.input_dim = m\n",
    "\n",
    "        # Reservoir dynamics parameters\n",
    "        self.gamma = gamma  \n",
    "        self.sigma = sigma \n",
    "        \n",
    "        # Construction of the adjacency matrix M following (Lu et al. 2018) and (Zhang et al. 2021)\n",
    "        current_time = time.time_ns()\n",
    "        self.M = adjacency_matrix(N, spectral_radius, density)\n",
    "        elapsed_time = time.time_ns() - current_time\n",
    "        print(\"Adjacency matrix construction [time in s]: \", elapsed_time/1.e9)\n",
    "\n",
    "        # Construction of the matrix of input weights W_in following (Zhang et al. 2021)\n",
    "        self.W_in = input_weights_zhang2021(N, m)\n",
    "\n",
    "        # Construction of the bias vector \n",
    "        self.bias = bias_vector(N)\n",
    "\n",
    "        # Set the internal state to be uninitialized\n",
    "        self.r = None\n",
    "        self.learned_reservoir_data = None\n",
    "        self.learned_input_data = None\n",
    "        self.W_out = None\n",
    "        self.predicted_r = None\n",
    "        self.prediction = None\n",
    "\n",
    "    \"\"\"\n",
    "    forget\n",
    "    \"\"\"\n",
    "    def forget(self):\n",
    "        self.r = None\n",
    "        self.learned_reservoir_data = None\n",
    "        self.learned_input_data = None\n",
    "        self.W_out = None\n",
    "        self.predicted_r = None\n",
    "        self.prediction = None\n",
    "\n",
    "\n",
    "    \"\"\"\n",
    "    learn_data\n",
    "\n",
    "    input_data: an array whose j-th row is the input to the reservoir at time j; the matrix should have shape (*, m)\n",
    "    start_time: the starting time for integrating the dynamics\n",
    "    start_learning_time: the starting time for the learning phase\n",
    "    end_time: the ending time for the learning phase\n",
    "    initial_r: an initial state for the reservoir\n",
    "    beta: bias parameter\n",
    "\n",
    "    This method appends the evolution of the reservoir to `self.learned_reservoir_data` and the corresponding input data to `self.learned_input_data`\n",
    "    \"\"\"\n",
    "    def learn_data(self, input_data : np.ndarray, start_time : int, start_learning_time : int, end_time : int, initial_r: np.ndarray, beta : float):\n",
    "        nrows, m = np.shape(input_data)\n",
    "        assert(m == self.input_dim), \"`input_data` has the wrong shape\"\n",
    "        assert(0 <= start_time <= start_learning_time <= end_time <= nrows), \"time-range constraints are not satisfied\"\n",
    "        def learning_reservoir_dynamics(j : int, w : np.ndarray):\n",
    "            return (1.0 - self.gamma) * w + self.gamma * np.tanh(self.M @ w + self.sigma * self.W_in @ input_data[j] + self.sigma * beta * self.bias)\n",
    "\n",
    "        w = np.copy(initial_r)\n",
    "        for j in range(start_time, start_learning_time):\n",
    "            w = learning_reservoir_dynamics(j, w)\n",
    "\n",
    "        learned_reservoir_data = np.zeros((end_time-start_learning_time, self.size))\n",
    "        # We have\n",
    "        #   input_data[start_learning_time], input_data[start_learning_time+1], ....\n",
    "        # which should be aligned with\n",
    "        #   learned_reservoir_data[0], learned_reservoir_data[1], ...\n",
    "        # When we call `w = learning_reservoir_dynamics(j, w)` then the new w is associated to input_data[j+1]\n",
    "        # and the old w is associated to input_data[j].\n",
    "        # This means that for j = start_learning_data we want to make learned_reservoir_dynamics[0] to be the old w,\n",
    "        # that is, we first need to make the assignment and then apply the learning map.\n",
    "        for j in range(start_learning_time, end_time):\n",
    "            learned_reservoir_data[j-start_learning_time,:] = w\n",
    "            w = learning_reservoir_dynamics(j, w)\n",
    "\n",
    "        if self.learned_reservoir_data is None:\n",
    "            self.learned_reservoir_data = np.copy(learned_reservoir_data)\n",
    "        else:\n",
    "            self.learned_reservoir_data = np.vstack([self.learned_reservoir_data, np.copy(learned_reservoir_data)])\n",
    "\n",
    "        if self.learned_input_data is None:\n",
    "            self.learned_input_data = input_data[start_learning_time:end_time]\n",
    "        else:\n",
    "            self.learned_input_data = np.vstack([self.learned_input_data, input_data[start_learning_time:end_time]])\n",
    "\n",
    "\n",
    "\n",
    "    \"\"\"\n",
    "    train\n",
    "\n",
    "    alpha: the regularization parameter for Ridge regression\n",
    "\n",
    "    This method sets `self.W_out`.\n",
    "    \"\"\"\n",
    "    def train(self, alpha : float):\n",
    "        assert(self.learned_input_data is not None), \"No learning has been done; first use `learn_data`.\"\n",
    "\n",
    "        X = np.copy(self.learned_reservoir_data)\n",
    "        y = np.copy(self.learned_input_data)\n",
    "\n",
    "        # Ridge regression\n",
    "        clf = Ridge(alpha=alpha, fit_intercept=False, tol=1.e-12, solver=\"svd\")\n",
    "        clf.fit(X, y)\n",
    "\n",
    "        self.W_out = np.copy(clf.coef_)\n",
    "\n",
    "\n",
    "    \"\"\"\n",
    "    evolved_predicting_reservoir\n",
    "\n",
    "    For a trained reservoir this method will autonomously evolve the reservoir starting from\n",
    "    its current state and saves the integration result to `self.predicted_solution`.\n",
    "\n",
    "    initial_data: the initial state of the system we try to predict\n",
    "    initial_r: corresponding initial reservoir state\n",
    "    for_time: for how much time to evolve the reservoir\n",
    "    beta: bias parameter\n",
    "    \"\"\"\n",
    "    def evolve_predicting_reservoir(self, initial_data: np.ndarray, initial_r: np.ndarray, conv_time: int, for_time : int, beta: float):\n",
    "        assert(self.W_out is not None), \"The reservoir must first be trained\"\n",
    "        mat = self. M + self.sigma * self.W_in @ self.W_out\n",
    "        def predicting_reservoir_dynamics(w : np.ndarray):\n",
    "            return (1.0 - self.gamma) * w + self.gamma * np.tanh(mat @ w + self.sigma * beta * self.bias)\n",
    "        # perform two steps of learning\n",
    "        w = np.copy(initial_r)\n",
    "        for i in range(conv_time):\n",
    "            w = (1.0 - self.gamma) * w + self.gamma * np.tanh(self.M @ w + self.sigma * self.W_in @ initial_data + self.sigma * beta * self.bias)\n",
    "        # evolve the predicting reservoir\n",
    "        self.predicted_r = np.zeros((for_time, self.size))\n",
    "        for i in range(for_time):\n",
    "            self.predicted_r[i,:] = w\n",
    "            w = predicting_reservoir_dynamics(w)\n",
    "        self.prediction = np.zeros((for_time, self.input_dim))\n",
    "        self.prediction[0,:] = initial_data\n",
    "        for i in range(1, for_time):\n",
    "            self.prediction[i,:] = self.reservoir_state_output(self.predicted_r[i-1,:])\n",
    "\n",
    "\n",
    "\n",
    "\n",
    "    \"\"\"\n",
    "    reservoir_state_output\n",
    "\n",
    "    For an internal state `r` this method returns the corresponding output.\n",
    "    \"\"\"\n",
    "    def reservoir_state_output(self, r):\n",
    "        assert(self.W_out is not None), \"The reservoir must first be trained\"\n",
    "        return self.W_out @ r\n"
   ]
  },
  {
   "cell_type": "code",
   "execution_count": 6,
   "metadata": {},
   "outputs": [],
   "source": [
    "p=parameters_zhang2021_parameter_aware = {\"N\": 1000, \"adjacency_matrix_density\": 0.9745, \"spectral_radius\": 1.1273, \"alpha\": 0.6397, \"sigma\": 0.9444, \"lambda\": 0.019798}\n"
   ]
  },
  {
   "cell_type": "markdown",
   "metadata": {},
   "source": [
    "# Double Pendulum"
   ]
  },
  {
   "cell_type": "code",
   "execution_count": 7,
   "metadata": {},
   "outputs": [],
   "source": [
    "def double_pendulum_dynamics(t, w):\n",
    "    u =  np.zeros(4)\n",
    "    theta1, omega1, theta2, omega2 = w\n",
    "    u[0] = omega1\n",
    "    u[1] = (9*np.cos(theta1-theta2)*np.sin(theta1-theta2)*omega1**2+6*np.sin(theta1-theta2)*omega2**2 + 18*np.sin(theta1)-9*np.cos(theta1-theta2)*np.sin(theta2))/(9*np.cos(theta1-theta2)**2-16)\n",
    "    u[2] = omega2\n",
    "    u[3] = (24*np.sin(theta1-theta2)*omega1**2+9*np.cos(theta1-theta2)*np.sin(theta1-theta2)*omega2**2+27*np.cos(theta1-theta2)*np.sin(theta1)-24*np.sin(theta2))/(16-9*np.cos(theta1-theta2)**2)\n",
    "    return u"
   ]
  },
  {
   "cell_type": "code",
   "execution_count": null,
   "metadata": {},
   "outputs": [],
   "source": [
    "wout_set=[]\n",
    "for i in range(21):\n",
    "    p1=0.1*i\n",
    "    for j in range(21):\n",
    "        p2=0.1*j-1\n",
    "        dp_sol1 = scipy.integrate.solve_ivp(double_pendulum_dynamics, [0.0, 2500.0], [0.6, 0.0, p1, p2], \"DOP853\", dense_output=True)\n",
    "        dp_data1 = np.transpose(dp_sol1.sol(np.linspace(0.0, 2000.0, 10000)))\n",
    "        rsv1 =  ParameterAwareDiscreteReservoir(p[\"N\"], 4,p[\"alpha\"] , p[\"sigma\"], p[\"spectral_radius\"] , p[\"adjacency_matrix_density\"])\n",
    "      #print(\"Learning\")\n",
    "        np.random.seed(4)\n",
    "        rsv1.learn_data(dp_data1, 0, 100, 2100, np.random.uniform(-0.1, 0.1, p[\"N\"]), 0)\n",
    "        \n",
    "        #print(\"Training\")\n",
    "        rsv1.train(p[\"lambda\"])\n",
    "        #print(\"Predicting\")\n",
    "        #rsv1.integrate_predicting_reservoir(1000)\n",
    "        wout_set.append(rsv1.W_out)\n",
    "        print(j)"
   ]
  },
  {
   "cell_type": "code",
   "execution_count": null,
   "metadata": {},
   "outputs": [],
   "source": [
    "ws=np.array(wout_set).reshape(21,21,4,1000)"
   ]
  },
  {
   "cell_type": "markdown",
   "metadata": {},
   "source": [
    "## Quasi-Periodic"
   ]
  },
  {
   "cell_type": "markdown",
   "metadata": {},
   "source": [
    "predict :1.5 0"
   ]
  },
  {
   "cell_type": "code",
   "execution_count": null,
   "metadata": {},
   "outputs": [],
   "source": [
    "z_pre = []\n",
    "for i in range(4):\n",
    "    for j in range(1000):\n",
    "        w = []\n",
    "        for m in range(21):\n",
    "            for n in range(21):\n",
    "                w.append(ws[m,n][i,j])\n",
    "        warray = np.array(w).reshape(21,21)\n",
    "        theta = np.mgrid[0:2:21j]\n",
    "        omega = np.mgrid[-1:1:21j]\n",
    "        interp_spline = scipy.interpolate.RectBivariateSpline(theta, omega, warray)\n",
    "        z = interp_spline(1.5, 0)\n",
    "        z_pre.append(z.tolist()[0][0])\n",
    "z_prepre = np.array(z_pre).reshape(4,1000)"
   ]
  },
  {
   "cell_type": "code",
   "execution_count": null,
   "metadata": {},
   "outputs": [],
   "source": [
    "dp_sol = scipy.integrate.solve_ivp(double_pendulum_dynamics, [0.0, 2500.0], [0.6, 0.0, 1.5, 0], \"DOP853\", dense_output=True)\n",
    "dp_data = np.transpose(dp_sol.sol(np.linspace(0.0, 2000.0, 10000)))\n",
    "rsv = ParameterAwareDiscreteReservoir(p[\"N\"], 4, p[\"alpha\"], p[\"sigma\"], p[\"spectral_radius\"], p[\"adjacency_matrix_density\"])\n",
    "rsv.W_out = z_prepre\n",
    "rsv.evolve_predicting_reservoir([0.6,0,1.5, 0], np.random.uniform(-0.1, 0.1, p[\"N\"]),4,400, 0)\n",
    "dp_pred_one = np.copy(rsv.prediction)"
   ]
  },
  {
   "cell_type": "code",
   "execution_count": null,
   "metadata": {},
   "outputs": [],
   "source": [
    "rsv.evolve_predicting_reservoir([0.6,0,1.5, 0], np.random.uniform(-0.1, 0.1, p[\"N\"]),4,400, 0)\n",
    "dp_pred_one = np.copy(rsv.prediction)"
   ]
  },
  {
   "cell_type": "code",
   "execution_count": null,
   "metadata": {},
   "outputs": [],
   "source": [
    "time_range = np.arange(0,400)\n",
    "idx = 0\n",
    "plt.plot(time_range, dp_data[time_range,idx], \"blue\")\n",
    "#predict_data = [rsv.prediction(j)[idx] for j in time_range]\n",
    "plt.plot(time_range,dp_pred_one[:,idx], \"red\")"
   ]
  },
  {
   "cell_type": "markdown",
   "metadata": {},
   "source": [
    "predict: 1.85, 0"
   ]
  },
  {
   "cell_type": "code",
   "execution_count": null,
   "metadata": {},
   "outputs": [],
   "source": [
    "z_pre = []\n",
    "for i in range(4):\n",
    "    for j in range(1000):\n",
    "        w = []\n",
    "        for m in range(21):\n",
    "            for n in range(21):\n",
    "                w.append(ws[m,n][i,j])\n",
    "        warray = np.array(w).reshape(21,21)\n",
    "        theta = np.mgrid[0:2:21j]\n",
    "        omega = np.mgrid[-1:1:21j]\n",
    "        interp_spline = scipy.interpolate.RectBivariateSpline(theta, omega, warray)\n",
    "        z = interp_spline(1.5, 0)\n",
    "        z_pre.append(z.tolist()[0][0])\n",
    "z_prepre = np.array(z_pre).reshape(4,1000)"
   ]
  },
  {
   "cell_type": "code",
   "execution_count": null,
   "metadata": {},
   "outputs": [],
   "source": [
    "rsv.evolve_predicting_reservoir([0.6,0,1.85,0], np.random.uniform(-0.1, 0.1, p[\"N\"]),4,400, 0)\n",
    "dp_pred_one = np.copy(rsv.prediction)"
   ]
  },
  {
   "cell_type": "code",
   "execution_count": null,
   "metadata": {},
   "outputs": [],
   "source": [
    "time_range = np.arange(0,400)\n",
    "idx = 0\n",
    "plt.plot(time_range, dp_data[time_range,idx], \"blue\")\n",
    "#predict_data = [rsv.prediction(j)[idx] for j in time_range]\n",
    "plt.plot(time_range,dp_pred_one[:,idx], \"red\")"
   ]
  },
  {
   "cell_type": "markdown",
   "metadata": {},
   "source": [
    "## Chaotic"
   ]
  },
  {
   "cell_type": "markdown",
   "metadata": {},
   "source": [
    "predict 1.84 0.58"
   ]
  },
  {
   "cell_type": "code",
   "execution_count": null,
   "metadata": {},
   "outputs": [],
   "source": [
    "z_pre = []\n",
    "for i in range(4):\n",
    "    for j in range(1000):\n",
    "        w = []\n",
    "        for m in range(21):\n",
    "            for n in range(21):\n",
    "                w.append(ws[m,n][i,j])\n",
    "        warray = np.array(w).reshape(21,21)\n",
    "        theta = np.mgrid[0:2:21j]\n",
    "        omega = np.mgrid[-1:1:21j]\n",
    "        interp_spline = scipy.interpolate.RectBivariateSpline(theta, omega, warray)\n",
    "        z = interp_spline(1.84,0.58)\n",
    "        z_pre.append(z.tolist()[0][0])\n",
    "z_prepre = np.array(z_pre).reshape(4,1000)\n",
    "dp_sol = scipy.integrate.solve_ivp(double_pendulum_dynamics, [0.0, 2500.0], [0.6, 0.0, 1.84 ,0.58], \"DOP853\", dense_output=True)\n",
    "dp_data = np.transpose(dp_sol.sol(np.linspace(0.0, 2000.0, 10000)))\n",
    "rsv = ParameterAwareDiscreteReservoir(p[\"N\"], 4, p[\"alpha\"], p[\"sigma\"], p[\"spectral_radius\"], p[\"adjacency_matrix_density\"])\n",
    "rsv.W_out = z_prepre"
   ]
  },
  {
   "cell_type": "code",
   "execution_count": null,
   "metadata": {},
   "outputs": [],
   "source": [
    "rsv.evolve_predicting_reservoir([0.6,0,1.84,0.58], np.random.uniform(-0.1, 0.1, p[\"N\"]),4,400, 0)\n",
    "dp_pred_one = np.copy(rsv.prediction)"
   ]
  },
  {
   "cell_type": "code",
   "execution_count": null,
   "metadata": {},
   "outputs": [],
   "source": [
    "time_range = np.arange(0,400)\n",
    "idx = 0\n",
    "plt.plot(time_range, dp_data[time_range,idx], \"blue\")\n",
    "#predict_data = [rsv.prediction(j)[idx] for j in time_range]\n",
    "plt.plot(time_range,dp_pred_one[:,idx], \"red\")"
   ]
  },
  {
   "cell_type": "markdown",
   "metadata": {},
   "source": [
    "predict 1.85 ,-0.43"
   ]
  },
  {
   "cell_type": "code",
   "execution_count": null,
   "metadata": {},
   "outputs": [],
   "source": [
    "z_pre = []\n",
    "for i in range(4):\n",
    "    for j in range(1000):\n",
    "        w = []\n",
    "        for m in range(21):\n",
    "            for n in range(21):\n",
    "                w.append(ws[m,n][i,j])\n",
    "        warray = np.array(w).reshape(21,21)\n",
    "        theta = np.mgrid[0:2:21j]\n",
    "        omega = np.mgrid[-1:1:21j]\n",
    "        interp_spline = scipy.interpolate.RectBivariateSpline(theta, omega, warray)\n",
    "        z = interp_spline(1.85,-0.43)\n",
    "        z_pre.append(z.tolist()[0][0])\n",
    "z_prepre = np.array(z_pre).reshape(4,1000)\n",
    "dp_sol = scipy.integrate.solve_ivp(double_pendulum_dynamics, [0.0, 2500.0], [0.6, 0.0, 1.85 ,-0.43], \"DOP853\", dense_output=True)\n",
    "dp_data = np.transpose(dp_sol.sol(np.linspace(0.0, 2000.0, 10000)))\n",
    "rsv = ParameterAwareDiscreteReservoir(p[\"N\"], 4, p[\"alpha\"], p[\"sigma\"], p[\"spectral_radius\"], p[\"adjacency_matrix_density\"])\n",
    "rsv.W_out = z_prepre"
   ]
  },
  {
   "cell_type": "code",
   "execution_count": null,
   "metadata": {},
   "outputs": [],
   "source": [
    "rsv.evolve_predicting_reservoir([0.6,0,1.85,-0.43], np.random.uniform(-0.1, 0.1, p[\"N\"]),4,400, 0)\n",
    "dp_pred_one = np.copy(rsv.prediction)"
   ]
  },
  {
   "cell_type": "code",
   "execution_count": null,
   "metadata": {},
   "outputs": [],
   "source": [
    "time_range = np.arange(0,400)\n",
    "idx = 0\n",
    "plt.plot(time_range, dp_data[time_range,idx], \"blue\")\n",
    "#predict_data = [rsv.prediction(j)[idx] for j in time_range]\n",
    "plt.plot(time_range,dp_pred_one[:,idx], \"red\")"
   ]
  },
  {
   "cell_type": "markdown",
   "metadata": {},
   "source": [
    "# Henon-Helie"
   ]
  },
  {
   "cell_type": "code",
   "execution_count": 8,
   "metadata": {},
   "outputs": [],
   "source": [
    "class HH:\n",
    "\n",
    "    def __init__(self, N : int, m: int, gamma: float, sigma : float, spectral_radius : float = 0.9, density : float = 0.02):\n",
    "\n",
    "        # Reservoir dimension\n",
    "        self.size = N\n",
    "        # Dynamical system dimension\n",
    "        self.input_dim = m\n",
    "\n",
    "        # Reservoir dynamics parameters\n",
    "        self.gamma = gamma  \n",
    "        self.sigma = sigma \n",
    "        \n",
    "        current_time = time.time_ns()\n",
    "        self.M = adjacency_matrix(N, spectral_radius, density)\n",
    "        elapsed_time = time.time_ns() - current_time\n",
    "        print(\"Adjacency matrix construction [time in s]: \", elapsed_time/1.e9)\n",
    "\n",
    "        # Construction of the matrix of input weights W_in following (Zhang et al. 2021)\n",
    "        self.W_in = input_weights_zhang2021(N, m)\n",
    "\n",
    "        # Construction of the bias vector \n",
    "        self.bias = bias_vector(N)\n",
    "\n",
    "        # Set the internal state to be uninitialized\n",
    "        self.r = None\n",
    "        self.learned_reservoir_data = None\n",
    "        self.learned_input_data = None\n",
    "        self.W_out = None\n",
    "        self.predicted_r = None\n",
    "        self.prediction = None\n",
    "\n",
    "    \"\"\"\n",
    "    forget\n",
    "    \"\"\"\n",
    "    def forget(self):\n",
    "        self.r = None\n",
    "        self.learned_reservoir_data = None\n",
    "        self.learned_input_data = None\n",
    "        self.W_out = None\n",
    "        self.predicted_r = None\n",
    "        self.prediction = None\n",
    "\n",
    "\n",
    "\n",
    "    def learn_data(self, input_data : np.ndarray, start_time : int, start_learning_time : int, end_time : int, initial_r: np.ndarray, beta : float):\n",
    "        nrows, m = np.shape(input_data)\n",
    "        assert(m == self.input_dim), \"`input_data` has the wrong shape\"\n",
    "        assert(0 <= start_time <= start_learning_time <= end_time <= nrows), \"time-range constraints are not satisfied\"\n",
    "        def learning_reservoir_dynamics(j : int, w : np.ndarray):\n",
    "            return (- self.gamma) * w + self.gamma * np.tanh(self.M @ w + self.sigma * self.W_in @ input_data[j] + self.sigma * beta * self.bias)\n",
    "\n",
    "        w = np.copy(initial_r)\n",
    "        for j in range(start_time, start_learning_time):\n",
    "            w = learning_reservoir_dynamics(j, w)\n",
    "\n",
    "        learned_reservoir_data = np.zeros((end_time-start_learning_time, self.size))\n",
    "     \n",
    "        for j in range(start_learning_time, end_time):\n",
    "            learned_reservoir_data[j-start_learning_time,:] = w\n",
    "            w = learning_reservoir_dynamics(j, w)\n",
    "\n",
    "        if self.learned_reservoir_data is None:\n",
    "            self.learned_reservoir_data = np.copy(learned_reservoir_data)\n",
    "        else:\n",
    "            self.learned_reservoir_data = np.vstack([self.learned_reservoir_data, np.copy(learned_reservoir_data)])\n",
    "\n",
    "        if self.learned_input_data is None:\n",
    "            self.learned_input_data = input_data[start_learning_time:end_time]\n",
    "        else:\n",
    "            self.learned_input_data = np.vstack([self.learned_input_data, input_data[start_learning_time:end_time]])\n",
    "\n",
    "\n",
    "    def train(self, alpha : float):\n",
    "        assert(self.learned_input_data is not None), \"No learning has been done; first use `learn_data`.\"\n",
    "\n",
    "        X = np.copy(self.learned_reservoir_data)\n",
    "        y = np.copy(self.learned_input_data)\n",
    "\n",
    "        # Ridge regression\n",
    "        clf = Ridge(alpha=alpha, fit_intercept=False, tol=1.e-12, solver=\"svd\")\n",
    "        clf.fit(X, y)\n",
    "\n",
    "        self.W_out = np.copy(clf.coef_)\n",
    "\n",
    "\n",
    "    def evolve_predicting_reservoir(self, initial_data: np.ndarray, initial_r: np.ndarray, conv_time: int, for_time : int, beta: float):\n",
    "        assert(self.W_out is not None), \"The reservoir must first be trained\"\n",
    "        mat = self. M + self.sigma * self.W_in @ self.W_out\n",
    "        def predicting_reservoir_dynamics(w : np.ndarray):\n",
    "            return (- self.gamma) * w + self.gamma * np.tanh(mat @ w + self.sigma * beta * self.bias)\n",
    "        # perform two steps of learning\n",
    "        w = np.copy(initial_r)\n",
    "        for i in range(conv_time):\n",
    "            w = (- self.gamma) * w + self.gamma * np.tanh(self.M @ w + self.sigma * self.W_in @ initial_data + self.sigma * beta * self.bias)\n",
    "        # evolve the predicting reservoir\n",
    "        self.predicted_r = np.zeros((for_time, self.size))\n",
    "        for i in range(for_time):\n",
    "            self.predicted_r[i,:] = w\n",
    "            w = predicting_reservoir_dynamics(w)\n",
    "        self.prediction = np.zeros((for_time, self.input_dim))\n",
    "        self.prediction[0,:] = initial_data\n",
    "        for i in range(1, for_time):\n",
    "            self.prediction[i,:] = self.reservoir_state_output(self.predicted_r[i-1,:])\n",
    "\n",
    "\n",
    "    def reservoir_state_output(self, r):\n",
    "        assert(self.W_out is not None), \"The reservoir must first be trained\"\n",
    "        return self.W_out @ r\n"
   ]
  },
  {
   "cell_type": "code",
   "execution_count": 9,
   "metadata": {},
   "outputs": [],
   "source": [
    "from math import sqrt\n",
    "\n",
    "def henon_heiles_dynamics(t, w):\n",
    "    u =  np.zeros(4)\n",
    "    u[0] = w[1]\n",
    "    u[1] = - w[0] - 2 * w[0] * w[2]\n",
    "    u[2] = w[3]\n",
    "    u[3] = - w[0]**2 + w[2]**2 - w[2]\n",
    "    return u\n",
    "\n",
    "def hh_ic(E, x2, y2):\n",
    "    return [0.0, sqrt(2*E-y2**2-x2**2+2/3*x2**3), x2, y2]"
   ]
  },
  {
   "cell_type": "code",
   "execution_count": 42,
   "metadata": {},
   "outputs": [
    {
     "name": "stdout",
     "output_type": "stream",
     "text": [
      "> First construction [time in s]:  3.958706\n",
      "> Spectral radius computation [time in s]:  0.56115\n",
      "Adjacency matrix construction [time in s]:  4.520635\n",
      "0\n",
      "> First construction [time in s]:  3.95986\n",
      "> Spectral radius computation [time in s]:  0.535995\n",
      "Adjacency matrix construction [time in s]:  4.49648\n",
      "1\n",
      "> First construction [time in s]:  3.954862\n",
      "> Spectral radius computation [time in s]:  0.529331\n",
      "Adjacency matrix construction [time in s]:  4.484807\n",
      "2\n",
      "> First construction [time in s]:  3.930049\n",
      "> Spectral radius computation [time in s]:  0.523412\n",
      "Adjacency matrix construction [time in s]:  4.454167\n",
      "3\n",
      "> First construction [time in s]:  3.944188\n",
      "> Spectral radius computation [time in s]:  0.51871\n",
      "Adjacency matrix construction [time in s]:  4.463694\n",
      "4\n",
      "> First construction [time in s]:  3.939411\n",
      "> Spectral radius computation [time in s]:  0.531558\n",
      "Adjacency matrix construction [time in s]:  4.471511\n",
      "5\n",
      "> First construction [time in s]:  3.974798\n",
      "> Spectral radius computation [time in s]:  0.58591\n",
      "Adjacency matrix construction [time in s]:  4.561316\n",
      "6\n",
      "> First construction [time in s]:  3.992054\n",
      "> Spectral radius computation [time in s]:  0.549321\n",
      "Adjacency matrix construction [time in s]:  4.542123\n",
      "0\n",
      "> First construction [time in s]:  4.003446\n",
      "> Spectral radius computation [time in s]:  0.538751\n",
      "Adjacency matrix construction [time in s]:  4.543079\n",
      "1\n",
      "> First construction [time in s]:  4.021228\n",
      "> Spectral radius computation [time in s]:  0.609907\n",
      "Adjacency matrix construction [time in s]:  4.631712\n",
      "2\n",
      "> First construction [time in s]:  3.937421\n",
      "> Spectral radius computation [time in s]:  0.561271\n",
      "Adjacency matrix construction [time in s]:  4.499248\n",
      "3\n",
      "> First construction [time in s]:  3.944651\n",
      "> Spectral radius computation [time in s]:  0.546697\n",
      "Adjacency matrix construction [time in s]:  4.491996\n",
      "4\n",
      "> First construction [time in s]:  3.951751\n",
      "> Spectral radius computation [time in s]:  0.533183\n",
      "Adjacency matrix construction [time in s]:  4.485594\n",
      "5\n",
      "> First construction [time in s]:  3.943619\n",
      "> Spectral radius computation [time in s]:  0.531405\n",
      "Adjacency matrix construction [time in s]:  4.475801\n",
      "6\n",
      "> First construction [time in s]:  3.939997\n",
      "> Spectral radius computation [time in s]:  0.528577\n",
      "Adjacency matrix construction [time in s]:  4.469141\n",
      "0\n",
      "> First construction [time in s]:  3.906719\n",
      "> Spectral radius computation [time in s]:  0.515163\n",
      "Adjacency matrix construction [time in s]:  4.422409\n",
      "1\n",
      "> First construction [time in s]:  3.918262\n",
      "> Spectral radius computation [time in s]:  0.531557\n",
      "Adjacency matrix construction [time in s]:  4.450522\n",
      "2\n",
      "> First construction [time in s]:  3.917197\n",
      "> Spectral radius computation [time in s]:  0.519246\n",
      "Adjacency matrix construction [time in s]:  4.436939\n",
      "3\n",
      "> First construction [time in s]:  3.919684\n",
      "> Spectral radius computation [time in s]:  0.53384\n",
      "Adjacency matrix construction [time in s]:  4.454129\n",
      "4\n",
      "> First construction [time in s]:  3.916273\n",
      "> Spectral radius computation [time in s]:  0.510194\n",
      "Adjacency matrix construction [time in s]:  4.42706\n",
      "5\n",
      "> First construction [time in s]:  3.900692\n",
      "> Spectral radius computation [time in s]:  0.531642\n",
      "Adjacency matrix construction [time in s]:  4.433037\n",
      "6\n",
      "> First construction [time in s]:  3.934955\n",
      "> Spectral radius computation [time in s]:  0.513375\n",
      "Adjacency matrix construction [time in s]:  4.448851\n",
      "0\n",
      "> First construction [time in s]:  3.927102\n",
      "> Spectral radius computation [time in s]:  0.521319\n",
      "Adjacency matrix construction [time in s]:  4.449088\n",
      "1\n",
      "> First construction [time in s]:  3.960348\n",
      "> Spectral radius computation [time in s]:  0.54427\n",
      "Adjacency matrix construction [time in s]:  4.505385\n",
      "2\n",
      "> First construction [time in s]:  3.912054\n",
      "> Spectral radius computation [time in s]:  0.506654\n",
      "Adjacency matrix construction [time in s]:  4.419326\n",
      "3\n",
      "> First construction [time in s]:  3.906363\n",
      "> Spectral radius computation [time in s]:  0.514781\n",
      "Adjacency matrix construction [time in s]:  4.421752\n",
      "4\n",
      "> First construction [time in s]:  3.89354\n",
      "> Spectral radius computation [time in s]:  0.51917\n",
      "Adjacency matrix construction [time in s]:  4.413285\n",
      "5\n",
      "> First construction [time in s]:  3.893906\n",
      "> Spectral radius computation [time in s]:  0.537273\n",
      "Adjacency matrix construction [time in s]:  4.431826\n",
      "6\n",
      "> First construction [time in s]:  3.921879\n",
      "> Spectral radius computation [time in s]:  0.564621\n",
      "Adjacency matrix construction [time in s]:  4.487182\n",
      "0\n",
      "> First construction [time in s]:  3.924714\n",
      "> Spectral radius computation [time in s]:  0.508387\n",
      "Adjacency matrix construction [time in s]:  4.433718\n",
      "1\n",
      "> First construction [time in s]:  3.880247\n",
      "> Spectral radius computation [time in s]:  0.527843\n",
      "Adjacency matrix construction [time in s]:  4.408604\n",
      "2\n",
      "> First construction [time in s]:  3.962963\n",
      "> Spectral radius computation [time in s]:  0.524678\n",
      "Adjacency matrix construction [time in s]:  4.488489\n",
      "3\n",
      "> First construction [time in s]:  3.942133\n",
      "> Spectral radius computation [time in s]:  0.529198\n",
      "Adjacency matrix construction [time in s]:  4.471972\n",
      "4\n",
      "> First construction [time in s]:  3.94647\n",
      "> Spectral radius computation [time in s]:  0.520128\n",
      "Adjacency matrix construction [time in s]:  4.467217\n",
      "5\n",
      "> First construction [time in s]:  3.892823\n",
      "> Spectral radius computation [time in s]:  0.506619\n",
      "Adjacency matrix construction [time in s]:  4.400036\n",
      "6\n",
      "> First construction [time in s]:  3.915426\n",
      "> Spectral radius computation [time in s]:  0.523593\n",
      "Adjacency matrix construction [time in s]:  4.43987\n",
      "0\n",
      "> First construction [time in s]:  3.894414\n",
      "> Spectral radius computation [time in s]:  0.505964\n",
      "Adjacency matrix construction [time in s]:  4.401006\n",
      "1\n",
      "> First construction [time in s]:  3.943221\n",
      "> Spectral radius computation [time in s]:  0.576942\n",
      "Adjacency matrix construction [time in s]:  4.520904\n",
      "2\n",
      "> First construction [time in s]:  3.947359\n",
      "> Spectral radius computation [time in s]:  0.539008\n",
      "Adjacency matrix construction [time in s]:  4.486959\n",
      "3\n",
      "> First construction [time in s]:  3.97571\n",
      "> Spectral radius computation [time in s]:  0.543675\n",
      "Adjacency matrix construction [time in s]:  4.520014\n",
      "4\n",
      "> First construction [time in s]:  3.934184\n",
      "> Spectral radius computation [time in s]:  0.575188\n",
      "Adjacency matrix construction [time in s]:  4.510012\n",
      "5\n",
      "> First construction [time in s]:  3.998813\n",
      "> Spectral radius computation [time in s]:  0.678633\n",
      "Adjacency matrix construction [time in s]:  4.677984\n",
      "6\n",
      "> First construction [time in s]:  3.888748\n",
      "> Spectral radius computation [time in s]:  0.512174\n",
      "Adjacency matrix construction [time in s]:  4.401614\n",
      "0\n",
      "> First construction [time in s]:  3.923845\n",
      "> Spectral radius computation [time in s]:  0.514881\n",
      "Adjacency matrix construction [time in s]:  4.439392\n",
      "1\n",
      "> First construction [time in s]:  3.907937\n",
      "> Spectral radius computation [time in s]:  0.546311\n",
      "Adjacency matrix construction [time in s]:  4.455072\n",
      "2\n",
      "> First construction [time in s]:  3.928844\n",
      "> Spectral radius computation [time in s]:  0.54447\n",
      "Adjacency matrix construction [time in s]:  4.474131\n",
      "3\n",
      "> First construction [time in s]:  3.902678\n",
      "> Spectral radius computation [time in s]:  0.534476\n",
      "Adjacency matrix construction [time in s]:  4.4379\n",
      "4\n",
      "> First construction [time in s]:  3.905154\n",
      "> Spectral radius computation [time in s]:  0.511898\n",
      "Adjacency matrix construction [time in s]:  4.417514\n",
      "5\n",
      "> First construction [time in s]:  3.897647\n",
      "> Spectral radius computation [time in s]:  0.508177\n",
      "Adjacency matrix construction [time in s]:  4.406514\n",
      "6\n"
     ]
    }
   ],
   "source": [
    "wout_set=[]\n",
    "for i in range(7):\n",
    "    p1=0.1*i-0.3\n",
    "    for j in range(7):\n",
    "        p2=0.1*j-0.3\n",
    "        hh_sol1 = scipy.integrate.solve_ivp(henon_heiles_dynamics, [0.0, 720], hh_ic(1/8, p1, p2), dense_output=True)\n",
    "        hh_data1 = np.transpose(hh_sol1.sol(np.linspace(0.0, 720, 3600)))\n",
    "        rsv1 =  HH(1000, 4, 0.4, 0.45, 0.8, 0.4)\n",
    "        np.random.seed(4)\n",
    "        rsv1.learn_data(hh_data1, 0, 100, 2100, np.random.uniform(-0.1, 0.1, 1000), 0)\n",
    "        rsv1.train(1)\n",
    "        wout_set.append(rsv1.W_out)\n",
    "        print(j)\n",
    "ws=np.array(wout_set).reshape(7,7,4,1000)"
   ]
  },
  {
   "cell_type": "markdown",
   "metadata": {},
   "source": [
    "## Periodic"
   ]
  },
  {
   "cell_type": "markdown",
   "metadata": {},
   "source": [
    "hh_ic(1/8, 0.125, -0.125)"
   ]
  },
  {
   "cell_type": "code",
   "execution_count": 43,
   "metadata": {},
   "outputs": [
    {
     "name": "stdout",
     "output_type": "stream",
     "text": [
      "> First construction [time in s]:  3.982187\n",
      "> Spectral radius computation [time in s]:  0.527862\n",
      "Adjacency matrix construction [time in s]:  4.510713\n"
     ]
    }
   ],
   "source": [
    "z_pre = []\n",
    "for i in range(4):\n",
    "    for j in range(1000):\n",
    "        w = []\n",
    "        for m in range(7):\n",
    "            for n in range(7):\n",
    "                w.append(ws[m,n][i,j])\n",
    "        \n",
    "        warray = np.array(w).reshape(7,7)\n",
    "        x = np.mgrid[-0.3:0.3:7j]\n",
    "        y = np.mgrid[-0.3:0.3:7j]\n",
    "\n",
    "        interp_spline = scipy.interpolate.RectBivariateSpline(x, y, warray)\n",
    "\n",
    "        z = interp_spline(0.125, -0.125)\n",
    "        z_pre.append(z.tolist()[0][0])\n",
    "\n",
    "z_prepre = np.array(z_pre).reshape(4,1000)\n",
    "\n",
    "hh_sol = scipy.integrate.solve_ivp(henon_heiles_dynamics, [0.0, 720], hh_ic(1/8, 0.125, -0.125), dense_output=True)\n",
    "hh_data = np.transpose(hh_sol.sol(np.linspace(0.0, 720, 3600)))\n",
    "\n",
    "rsv = HH(1000, 4, 0.4, 0.45, 0.8, 0.4)\n",
    "rsv.W_out = z_prepre"
   ]
  },
  {
   "cell_type": "code",
   "execution_count": 44,
   "metadata": {},
   "outputs": [],
   "source": [
    "rsv.evolve_predicting_reservoir(hh_ic(1/8, 0.125, -0.125), np.random.uniform(-0.1, 0.1, 1000), 4, 400, 0)\n",
    "dp_pred_one = np.copy(rsv.prediction)"
   ]
  },
  {
   "cell_type": "code",
   "execution_count": 45,
   "metadata": {},
   "outputs": [
    {
     "data": {
      "text/plain": [
       "[<matplotlib.lines.Line2D at 0x7f921a233190>]"
      ]
     },
     "execution_count": 45,
     "metadata": {},
     "output_type": "execute_result"
    },
    {
     "data": {
      "image/png": "[encoded data removed]",
      "text/plain": [
       "<Figure size 432x288 with 1 Axes>"
      ]
     },
     "metadata": {
      "needs_background": "light"
     },
     "output_type": "display_data"
    }
   ],
   "source": [
    "time_range = np.arange(0,400)\n",
    "idx = 0\n",
    "plt.plot(time_range, hh_data[time_range,idx], \"blue\")\n",
    "#predict_data = [rsv.prediction(j)[idx] for j in time_range]\n",
    "plt.plot(time_range,dp_pred_one[:,idx], \"red\")"
   ]
  },
  {
   "cell_type": "markdown",
   "metadata": {},
   "source": [
    "hh_ic(1/8, 0.2, -0.05)"
   ]
  },
  {
   "cell_type": "code",
   "execution_count": 46,
   "metadata": {},
   "outputs": [
    {
     "name": "stdout",
     "output_type": "stream",
     "text": [
      "> First construction [time in s]:  3.951859\n",
      "> Spectral radius computation [time in s]:  0.527292\n",
      "Adjacency matrix construction [time in s]:  4.479869\n"
     ]
    }
   ],
   "source": [
    "z_pre = []\n",
    "for i in range(4):\n",
    "    for j in range(1000):\n",
    "        w = []\n",
    "        for m in range(7):\n",
    "            for n in range(7):\n",
    "                w.append(ws[m,n][i,j])\n",
    "        \n",
    "        warray = np.array(w).reshape(7,7)\n",
    "        x = np.mgrid[-0.3:0.3:7j]\n",
    "        y = np.mgrid[-0.3:0.3:7j]\n",
    "\n",
    "        interp_spline = scipy.interpolate.RectBivariateSpline(x, y, warray)\n",
    "\n",
    "        z = interp_spline(0.2, -0.05)\n",
    "        z_pre.append(z.tolist()[0][0])\n",
    "\n",
    "z_prepre = np.array(z_pre).reshape(4,1000)\n",
    "\n",
    "hh_sol = scipy.integrate.solve_ivp(henon_heiles_dynamics, [0.0, 720], hh_ic(1/8, 0.2, -0.05), dense_output=True)\n",
    "hh_data = np.transpose(hh_sol.sol(np.linspace(0.0, 720, 3600)))\n",
    "\n",
    "rsv = HH(1000, 4, 0.4, 0.45, 0.8, 0.4)\n",
    "rsv.W_out = z_prepre"
   ]
  },
  {
   "cell_type": "code",
   "execution_count": 47,
   "metadata": {},
   "outputs": [],
   "source": [
    "rsv.evolve_predicting_reservoir(hh_ic(1/8, 0.2, -0.05), np.random.uniform(-0.1, 0.1, 1000), 4, 400, 0)\n",
    "dp_pred_one = np.copy(rsv.prediction)"
   ]
  },
  {
   "cell_type": "code",
   "execution_count": 48,
   "metadata": {},
   "outputs": [
    {
     "data": {
      "text/plain": [
       "[<matplotlib.lines.Line2D at 0x7f91faf8c1c0>]"
      ]
     },
     "execution_count": 48,
     "metadata": {},
     "output_type": "execute_result"
    },
    {
     "data": {
      "image/png": "[encoded data removed]",
      "text/plain": [
       "<Figure size 432x288 with 1 Axes>"
      ]
     },
     "metadata": {
      "needs_background": "light"
     },
     "output_type": "display_data"
    }
   ],
   "source": [
    "time_range = np.arange(0,400)\n",
    "idx = 0\n",
    "plt.plot(time_range, hh_data[time_range,idx], \"blue\")\n",
    "#predict_data = [rsv.prediction(j)[idx] for j in time_range]\n",
    "plt.plot(time_range,dp_pred_one[:,idx], \"red\")"
   ]
  },
  {
   "cell_type": "markdown",
   "metadata": {},
   "source": [
    "## Chaotic"
   ]
  },
  {
   "cell_type": "code",
   "execution_count": 31,
   "metadata": {},
   "outputs": [
    {
     "name": "stdout",
     "output_type": "stream",
     "text": [
      "> First construction [time in s]:  3.944544\n",
      "> Spectral radius computation [time in s]:  0.535358\n",
      "Adjacency matrix construction [time in s]:  4.480535\n",
      "0\n",
      "> First construction [time in s]:  3.980459\n",
      "> Spectral radius computation [time in s]:  0.54348\n",
      "Adjacency matrix construction [time in s]:  4.52451\n",
      "1\n",
      "> First construction [time in s]:  3.97295\n",
      "> Spectral radius computation [time in s]:  0.542169\n",
      "Adjacency matrix construction [time in s]:  4.515787\n",
      "2\n",
      "> First construction [time in s]:  3.998698\n",
      "> Spectral radius computation [time in s]:  0.532678\n",
      "Adjacency matrix construction [time in s]:  4.532285\n",
      "3\n",
      "> First construction [time in s]:  3.977767\n",
      "> Spectral radius computation [time in s]:  0.548166\n",
      "Adjacency matrix construction [time in s]:  4.526535\n",
      "4\n",
      "> First construction [time in s]:  3.99737\n",
      "> Spectral radius computation [time in s]:  0.596459\n",
      "Adjacency matrix construction [time in s]:  4.594629\n",
      "5\n",
      "> First construction [time in s]:  3.910348\n",
      "> Spectral radius computation [time in s]:  0.520029\n",
      "Adjacency matrix construction [time in s]:  4.430819\n",
      "6\n",
      "> First construction [time in s]:  3.936827\n",
      "> Spectral radius computation [time in s]:  0.508954\n",
      "Adjacency matrix construction [time in s]:  4.446328\n",
      "0\n",
      "> First construction [time in s]:  3.908079\n",
      "> Spectral radius computation [time in s]:  0.508712\n",
      "Adjacency matrix construction [time in s]:  4.417451\n",
      "1\n",
      "> First construction [time in s]:  3.884934\n",
      "> Spectral radius computation [time in s]:  0.51126\n",
      "Adjacency matrix construction [time in s]:  4.396932\n",
      "2\n",
      "> First construction [time in s]:  3.927739\n",
      "> Spectral radius computation [time in s]:  0.515512\n",
      "Adjacency matrix construction [time in s]:  4.444125\n",
      "3\n",
      "> First construction [time in s]:  3.938638\n",
      "> Spectral radius computation [time in s]:  0.544048\n",
      "Adjacency matrix construction [time in s]:  4.483293\n",
      "4\n",
      "> First construction [time in s]:  3.918031\n",
      "> Spectral radius computation [time in s]:  0.537979\n",
      "Adjacency matrix construction [time in s]:  4.456592\n",
      "5\n",
      "> First construction [time in s]:  3.919493\n",
      "> Spectral radius computation [time in s]:  0.504286\n",
      "Adjacency matrix construction [time in s]:  4.424442\n",
      "6\n",
      "> First construction [time in s]:  3.968482\n",
      "> Spectral radius computation [time in s]:  0.570605\n",
      "Adjacency matrix construction [time in s]:  4.539683\n",
      "0\n",
      "> First construction [time in s]:  4.018655\n",
      "> Spectral radius computation [time in s]:  0.525076\n",
      "Adjacency matrix construction [time in s]:  4.544361\n",
      "1\n",
      "> First construction [time in s]:  3.915023\n",
      "> Spectral radius computation [time in s]:  0.530719\n",
      "Adjacency matrix construction [time in s]:  4.44633\n",
      "2\n",
      "> First construction [time in s]:  3.949914\n",
      "> Spectral radius computation [time in s]:  0.539289\n",
      "Adjacency matrix construction [time in s]:  4.490024\n",
      "3\n",
      "> First construction [time in s]:  3.941645\n",
      "> Spectral radius computation [time in s]:  0.522094\n",
      "Adjacency matrix construction [time in s]:  4.464312\n",
      "4\n",
      "> First construction [time in s]:  3.932961\n",
      "> Spectral radius computation [time in s]:  0.520034\n",
      "Adjacency matrix construction [time in s]:  4.453626\n",
      "5\n",
      "> First construction [time in s]:  3.938554\n",
      "> Spectral radius computation [time in s]:  0.513605\n",
      "Adjacency matrix construction [time in s]:  4.452813\n",
      "6\n",
      "> First construction [time in s]:  3.91281\n",
      "> Spectral radius computation [time in s]:  0.511252\n",
      "Adjacency matrix construction [time in s]:  4.424663\n",
      "0\n",
      "> First construction [time in s]:  3.930245\n",
      "> Spectral radius computation [time in s]:  0.528507\n",
      "Adjacency matrix construction [time in s]:  4.459307\n",
      "1\n",
      "> First construction [time in s]:  3.929093\n",
      "> Spectral radius computation [time in s]:  0.519066\n",
      "Adjacency matrix construction [time in s]:  4.448862\n",
      "2\n",
      "> First construction [time in s]:  3.918601\n",
      "> Spectral radius computation [time in s]:  0.527006\n",
      "Adjacency matrix construction [time in s]:  4.44618\n",
      "3\n",
      "> First construction [time in s]:  3.929389\n",
      "> Spectral radius computation [time in s]:  0.530749\n",
      "Adjacency matrix construction [time in s]:  4.460812\n",
      "4\n",
      "> First construction [time in s]:  3.921395\n",
      "> Spectral radius computation [time in s]:  0.515467\n",
      "Adjacency matrix construction [time in s]:  4.437447\n",
      "5\n",
      "> First construction [time in s]:  3.83168\n",
      "> Spectral radius computation [time in s]:  0.520803\n",
      "Adjacency matrix construction [time in s]:  4.353077\n",
      "6\n",
      "> First construction [time in s]:  3.920979\n",
      "> Spectral radius computation [time in s]:  0.514056\n",
      "Adjacency matrix construction [time in s]:  4.435754\n",
      "0\n",
      "> First construction [time in s]:  3.94365\n",
      "> Spectral radius computation [time in s]:  0.522148\n",
      "Adjacency matrix construction [time in s]:  4.466354\n",
      "1\n",
      "> First construction [time in s]:  3.932057\n",
      "> Spectral radius computation [time in s]:  0.525672\n",
      "Adjacency matrix construction [time in s]:  4.458301\n",
      "2\n",
      "> First construction [time in s]:  3.938243\n",
      "> Spectral radius computation [time in s]:  0.519282\n",
      "Adjacency matrix construction [time in s]:  4.458109\n",
      "3\n",
      "> First construction [time in s]:  3.92523\n",
      "> Spectral radius computation [time in s]:  0.508098\n",
      "Adjacency matrix construction [time in s]:  4.433946\n",
      "4\n",
      "> First construction [time in s]:  3.941661\n",
      "> Spectral radius computation [time in s]:  0.526167\n",
      "Adjacency matrix construction [time in s]:  4.468623\n",
      "5\n",
      "> First construction [time in s]:  3.918725\n",
      "> Spectral radius computation [time in s]:  0.526455\n",
      "Adjacency matrix construction [time in s]:  4.44571\n",
      "6\n",
      "> First construction [time in s]:  3.926879\n",
      "> Spectral radius computation [time in s]:  0.525182\n",
      "Adjacency matrix construction [time in s]:  4.452658\n",
      "0\n",
      "> First construction [time in s]:  3.925989\n",
      "> Spectral radius computation [time in s]:  0.523021\n",
      "Adjacency matrix construction [time in s]:  4.44961\n",
      "1\n",
      "> First construction [time in s]:  3.930929\n",
      "> Spectral radius computation [time in s]:  0.525363\n",
      "Adjacency matrix construction [time in s]:  4.456929\n",
      "2\n",
      "> First construction [time in s]:  3.920281\n",
      "> Spectral radius computation [time in s]:  0.538087\n",
      "Adjacency matrix construction [time in s]:  4.458983\n",
      "3\n",
      "> First construction [time in s]:  3.884376\n",
      "> Spectral radius computation [time in s]:  0.51353\n",
      "Adjacency matrix construction [time in s]:  4.398499\n",
      "4\n",
      "> First construction [time in s]:  3.904649\n",
      "> Spectral radius computation [time in s]:  0.510688\n",
      "Adjacency matrix construction [time in s]:  4.415927\n",
      "5\n",
      "> First construction [time in s]:  3.917982\n",
      "> Spectral radius computation [time in s]:  0.524282\n",
      "Adjacency matrix construction [time in s]:  4.442873\n",
      "6\n",
      "> First construction [time in s]:  3.911082\n",
      "> Spectral radius computation [time in s]:  0.530104\n",
      "Adjacency matrix construction [time in s]:  4.441805\n",
      "0\n",
      "> First construction [time in s]:  3.905965\n",
      "> Spectral radius computation [time in s]:  0.533129\n",
      "Adjacency matrix construction [time in s]:  4.439683\n",
      "1\n",
      "> First construction [time in s]:  3.910915\n",
      "> Spectral radius computation [time in s]:  0.667315\n",
      "Adjacency matrix construction [time in s]:  4.578899\n",
      "2\n",
      "> First construction [time in s]:  3.930792\n",
      "> Spectral radius computation [time in s]:  0.592721\n",
      "Adjacency matrix construction [time in s]:  4.524246\n",
      "3\n",
      "> First construction [time in s]:  3.942837\n",
      "> Spectral radius computation [time in s]:  0.511163\n",
      "Adjacency matrix construction [time in s]:  4.454571\n",
      "4\n",
      "> First construction [time in s]:  3.91033\n",
      "> Spectral radius computation [time in s]:  0.520808\n",
      "Adjacency matrix construction [time in s]:  4.431776\n",
      "5\n",
      "> First construction [time in s]:  3.919016\n",
      "> Spectral radius computation [time in s]:  0.525652\n",
      "Adjacency matrix construction [time in s]:  4.445284\n",
      "6\n"
     ]
    }
   ],
   "source": [
    "wout_set=[]\n",
    "for i in range(7):\n",
    "    p1=0.1*i-0.3\n",
    "    for j in range(7):\n",
    "        p2=0.1*j-0.3\n",
    "        hh_sol1 = scipy.integrate.solve_ivp(henon_heiles_dynamics, [0.0, 720], hh_ic(1/6, p1, p2), dense_output=True)\n",
    "        hh_data1 = np.transpose(hh_sol1.sol(np.linspace(0.0, 720, 3600)))\n",
    "        rsv1 =  HH(1000, 4, 0.4, 0.45, 0.8, 0.4)\n",
    "        np.random.seed(4)\n",
    "        rsv1.learn_data(hh_data1, 0, 100, 2100, np.random.uniform(-0.1, 0.1, 1000), 0)\n",
    "        rsv1.train(1)\n",
    "        wout_set.append(rsv1.W_out)\n",
    "        print(j)\n",
    "ws=np.array(wout_set).reshape(7,7,4,1000)"
   ]
  },
  {
   "cell_type": "markdown",
   "metadata": {},
   "source": [
    "hh_ic(1/6, 0.125, -0.125)"
   ]
  },
  {
   "cell_type": "code",
   "execution_count": 32,
   "metadata": {},
   "outputs": [
    {
     "name": "stdout",
     "output_type": "stream",
     "text": [
      "> First construction [time in s]:  3.982342\n",
      "> Spectral radius computation [time in s]:  0.529263\n",
      "Adjacency matrix construction [time in s]:  4.51214\n"
     ]
    }
   ],
   "source": [
    "z_pre = []\n",
    "for i in range(4):\n",
    "    for j in range(1000):\n",
    "        w = []\n",
    "        for m in range(7):\n",
    "            for n in range(7):\n",
    "                w.append(ws[m,n][i,j])\n",
    "        \n",
    "        warray = np.array(w).reshape(7,7)\n",
    "        x = np.mgrid[-0.3:0.3:7j]\n",
    "        y = np.mgrid[-0.3:0.3:7j]\n",
    "\n",
    "        interp_spline = scipy.interpolate.RectBivariateSpline(x, y, warray)\n",
    "\n",
    "        z = interp_spline(0.125, -0.125)\n",
    "        z_pre.append(z.tolist()[0][0])\n",
    "\n",
    "z_prepre = np.array(z_pre).reshape(4,1000)\n",
    "\n",
    "hh_sol = scipy.integrate.solve_ivp(henon_heiles_dynamics, [0.0, 720], hh_ic(1/6, 0.125, -0.125), dense_output=True)\n",
    "hh_data = np.transpose(hh_sol1.sol(np.linspace(0.0, 720, 3600)))\n",
    "\n",
    "rsv = HH(1000, 4, 0.4, 0.45, 0.8, 0.4)\n",
    "rsv.W_out = z_prepre"
   ]
  },
  {
   "cell_type": "code",
   "execution_count": 35,
   "metadata": {},
   "outputs": [],
   "source": [
    "rsv.evolve_predicting_reservoir(hh_ic(1/6, 0.125, -0.125), np.random.uniform(-0.1, 0.1, 1000), 4, 400, 0)\n",
    "dp_pred_one = np.copy(rsv.prediction)"
   ]
  },
  {
   "cell_type": "code",
   "execution_count": 36,
   "metadata": {},
   "outputs": [
    {
     "data": {
      "text/plain": [
       "[<matplotlib.lines.Line2D at 0x7f9229e98490>]"
      ]
     },
     "execution_count": 36,
     "metadata": {},
     "output_type": "execute_result"
    },
    {
     "data": {
      "image/png": "[encoded data removed]",
      "text/plain": [
       "<Figure size 432x288 with 1 Axes>"
      ]
     },
     "metadata": {
      "needs_background": "light"
     },
     "output_type": "display_data"
    }
   ],
   "source": [
    "hh_sol1 = scipy.integrate.solve_ivp(henon_heiles_dynamics, [0.0, 720], hh_ic(1/6, 0.125, -0.125), dense_output=True)\n",
    "hh_data1 = np.transpose(hh_sol1.sol(np.linspace(0.0, 720, 3600)))\n",
    "\n",
    "time_range = np.arange(0,400)\n",
    "idx = 0\n",
    "plt.plot(time_range, hh_data1[time_range,idx], \"blue\")\n",
    "plt.plot(time_range,dp_pred_one[:,idx], \"red\")\n"
   ]
  },
  {
   "cell_type": "markdown",
   "metadata": {},
   "source": [
    "hh_ic(1/6, 0.2, -0.05)"
   ]
  },
  {
   "cell_type": "code",
   "execution_count": 39,
   "metadata": {},
   "outputs": [
    {
     "name": "stdout",
     "output_type": "stream",
     "text": [
      "> First construction [time in s]:  3.940732\n",
      "> Spectral radius computation [time in s]:  0.526792\n",
      "Adjacency matrix construction [time in s]:  4.468143\n"
     ]
    }
   ],
   "source": [
    "z_pre = []\n",
    "for i in range(4):\n",
    "    for j in range(1000):\n",
    "        w = []\n",
    "        for m in range(7):\n",
    "            for n in range(7):\n",
    "                w.append(ws[m,n][i,j])\n",
    "        \n",
    "        warray = np.array(w).reshape(7,7)\n",
    "        x = np.mgrid[-0.3:0.3:7j]\n",
    "        y = np.mgrid[-0.3:0.3:7j]\n",
    "\n",
    "        interp_spline = scipy.interpolate.RectBivariateSpline(x, y, warray)\n",
    "\n",
    "        z = interp_spline(0.2, -0.05)\n",
    "        z_pre.append(z.tolist()[0][0])\n",
    "\n",
    "z_prepre = np.array(z_pre).reshape(4,1000)\n",
    "\n",
    "hh_sol = scipy.integrate.solve_ivp(henon_heiles_dynamics, [0.0, 720], hh_ic(1/6, 0.2, -0.05), dense_output=True)\n",
    "hh_data = np.transpose(hh_sol1.sol(np.linspace(0.0, 720, 3600)))\n",
    "\n",
    "rsv = HH(1000, 4, 0.4, 0.45, 0.8, 0.4)\n",
    "rsv.W_out = z_prepre"
   ]
  },
  {
   "cell_type": "code",
   "execution_count": 40,
   "metadata": {},
   "outputs": [],
   "source": [
    "rsv.evolve_predicting_reservoir(hh_ic(1/6, 0.2, -0.05), np.random.uniform(-0.1, 0.1, 1000), 4, 400, 0)\n",
    "dp_pred_one = np.copy(rsv.prediction)"
   ]
  },
  {
   "cell_type": "code",
   "execution_count": 41,
   "metadata": {},
   "outputs": [
    {
     "data": {
      "text/plain": [
       "[<matplotlib.lines.Line2D at 0x7f9209930280>]"
      ]
     },
     "execution_count": 41,
     "metadata": {},
     "output_type": "execute_result"
    },
    {
     "data": {
      "image/png": "[encoded data removed]",
      "text/plain": [
       "<Figure size 432x288 with 1 Axes>"
      ]
     },
     "metadata": {
      "needs_background": "light"
     },
     "output_type": "display_data"
    }
   ],
   "source": [
    "hh_sol1 = scipy.integrate.solve_ivp(henon_heiles_dynamics, [0.0, 720], hh_ic(1/6, 0.2, -0.05), dense_output=True)\n",
    "hh_data1 = np.transpose(hh_sol1.sol(np.linspace(0.0, 720, 3600)))\n",
    "\n",
    "time_range = np.arange(0,400)\n",
    "idx = 0\n",
    "plt.plot(time_range, hh_data1[time_range,idx], \"blue\")\n",
    "plt.plot(time_range,dp_pred_one[:,idx], \"red\")"
   ]
  },
  {
   "cell_type": "markdown",
   "metadata": {},
   "source": []
  },
  {
   "cell_type": "markdown",
   "metadata": {},
   "source": []
  },
  {
   "cell_type": "markdown",
   "metadata": {},
   "source": [
    "Try with the simple orbit:"
   ]
  },
  {
   "cell_type": "code",
   "execution_count": 37,
   "metadata": {},
   "outputs": [
    {
     "name": "stdout",
     "output_type": "stream",
     "text": [
      "> First construction [time in s]:  3.942368\n",
      "> Spectral radius computation [time in s]:  0.52303\n",
      "Adjacency matrix construction [time in s]:  4.465952\n"
     ]
    }
   ],
   "source": [
    "hh_sol1 = scipy.integrate.solve_ivp(henon_heiles_dynamics, [0.0, 720], hh_ic(1/6, 0.02, -0.125), dense_output=True)\n",
    "hh_data1 = np.transpose(hh_sol1.sol(np.linspace(0.0, 720, 3600)))\n",
    "rsv1 =  HH(1000, 4, 0.4, 0.45, 0.8, 0.4)\n",
    "np.random.seed(4)\n",
    "rsv1.learn_data(hh_data1, 0, 100, 2100, np.random.uniform(-0.1, 0.1, 1000), 0)\n",
    "rsv1.train(0.001)\n",
    "rsv1.evolve_predicting_reservoir(hh_ic(1/6, 0.02, -0.125), np.random.uniform(-0.1, 0.1, 1000), 4, 400, 0)\n",
    "dp_pred_one = np.copy(rsv1.prediction)"
   ]
  },
  {
   "cell_type": "code",
   "execution_count": 38,
   "metadata": {},
   "outputs": [
    {
     "data": {
      "text/plain": [
       "[<matplotlib.lines.Line2D at 0x7f91faf687f0>]"
      ]
     },
     "execution_count": 38,
     "metadata": {},
     "output_type": "execute_result"
    },
    {
     "data": {
      "image/png": "[encoded data removed]",
      "text/plain": [
       "<Figure size 432x288 with 1 Axes>"
      ]
     },
     "metadata": {
      "needs_background": "light"
     },
     "output_type": "display_data"
    }
   ],
   "source": [
    "time_range = np.arange(0,400)\n",
    "idx = 0\n",
    "plt.plot(time_range, hh_data1[time_range,idx], \"blue\")\n",
    "\n",
    "plt.plot(time_range,dp_pred_one[:,idx], \"red\")"
   ]
  },
  {
   "cell_type": "code",
   "execution_count": null,
   "metadata": {},
   "outputs": [],
   "source": []
  }
 ],
 "metadata": {
  "kernelspec": {
   "display_name": "Python 3.9.12 ('base')",
   "language": "python",
   "name": "python3"
  },
  "language_info": {
   "codemirror_mode": {
    "name": "ipython",
    "version": 3
   },
   "file_extension": ".py",
   "mimetype": "text/x-python",
   "name": "python",
   "nbconvert_exporter": "python",
   "pygments_lexer": "ipython3",
   "version": "3.9.12"
  },
  "vscode": {
   "interpreter": {
    "hash": "d505bc8d6791cf860872335ce3a55878e05b53900c168c81de97b378be9523e4"
   }
  }
 },
 "nbformat": 4,
 "nbformat_minor": 4
}
